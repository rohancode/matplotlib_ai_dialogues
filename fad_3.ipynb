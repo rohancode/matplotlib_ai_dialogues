{
 "cells": [
  {
   "cell_type": "code",
   "execution_count": 1,
   "id": "f58b131f",
   "metadata": {},
   "outputs": [],
   "source": [
    "# What is tesla stock for last month?"
   ]
  },
  {
   "cell_type": "code",
   "execution_count": 2,
   "id": "9d20829b",
   "metadata": {},
   "outputs": [
    {
     "name": "stdout",
     "output_type": "stream",
     "text": [
      "                   High          Low         Open        Close    Volume  \\\n",
      "Date                                                                       \n",
      "2022-04-01  1094.750000  1066.640015  1081.150024  1084.589966  18012900   \n",
      "2022-04-04  1149.910034  1072.530029  1089.380005  1145.449951  27345300   \n",
      "2022-04-05  1152.869995  1087.300049  1136.300049  1091.260010  26691700   \n",
      "2022-04-06  1079.000000  1027.699951  1073.469971  1045.760010  29782800   \n",
      "2022-04-07  1076.589966  1021.539978  1052.390015  1057.260010  26482400   \n",
      "2022-04-08  1048.439941  1022.440002  1043.209961  1025.489990  18293300   \n",
      "2022-04-11  1008.469971   974.640015   980.400024   975.929993  19785700   \n",
      "2022-04-12  1021.190002   976.599976   997.640015   986.950012  21992000   \n",
      "2022-04-13  1026.239990   973.099976   981.080017  1022.369995  18373700   \n",
      "2022-04-14  1012.710022   982.190002   999.289978   985.000000  19444000   \n",
      "2022-04-18  1014.919983   973.409973   989.030029  1004.289978  17238400   \n",
      "2022-04-19  1034.939941   995.330017  1005.059998  1028.150024  16615900   \n",
      "2022-04-20  1034.000000   975.250000  1030.000000   977.200012  23570400   \n",
      "2022-04-21  1092.219971   996.419983  1074.729980  1008.780029  35138800   \n",
      "2022-04-22  1034.849976   994.000000  1014.909973  1005.049988  23232200   \n",
      "2022-04-25  1008.619995   975.299988   978.969971   998.020020  22780400   \n",
      "2022-04-26  1000.000000   875.000000   995.429993   876.419983  45377900   \n",
      "2022-04-27   918.000000   877.359985   898.580017   881.510010  25652100   \n",
      "2022-04-28   900.000000   821.700012   899.979980   877.510010  41649500   \n",
      "2022-04-29   934.400024   870.000000   902.250000   870.760010  29313400   \n",
      "\n",
      "              Adj Close  \n",
      "Date                     \n",
      "2022-04-01  1084.589966  \n",
      "2022-04-04  1145.449951  \n",
      "2022-04-05  1091.260010  \n",
      "2022-04-06  1045.760010  \n",
      "2022-04-07  1057.260010  \n",
      "2022-04-08  1025.489990  \n",
      "2022-04-11   975.929993  \n",
      "2022-04-12   986.950012  \n",
      "2022-04-13  1022.369995  \n",
      "2022-04-14   985.000000  \n",
      "2022-04-18  1004.289978  \n",
      "2022-04-19  1028.150024  \n",
      "2022-04-20   977.200012  \n",
      "2022-04-21  1008.780029  \n",
      "2022-04-22  1005.049988  \n",
      "2022-04-25   998.020020  \n",
      "2022-04-26   876.419983  \n",
      "2022-04-27   881.510010  \n",
      "2022-04-28   877.510010  \n",
      "2022-04-29   870.760010  \n"
     ]
    }
   ],
   "source": [
    "import pandas_datareader.data as web\n",
    "import datetime\n",
    "\n",
    "data = web.DataReader(\"TSLA\", 'yahoo', datetime.date.today() - datetime.timedelta(days=30))\n",
    "print(data)"
   ]
  },
  {
   "cell_type": "code",
   "execution_count": 3,
   "id": "0593d11f",
   "metadata": {},
   "outputs": [],
   "source": [
    "# Make a columns \"Max Gap Volume\" = (\"High\"-\"Low\")*\"Volume\", and the show me the dataframe"
   ]
  },
  {
   "cell_type": "code",
   "execution_count": 4,
   "id": "61b884c6",
   "metadata": {},
   "outputs": [
    {
     "name": "stdout",
     "output_type": "stream",
     "text": [
      "                   High          Low         Open        Close    Volume  \\\n",
      "Date                                                                       \n",
      "2022-04-01  1094.750000  1066.640015  1081.150024  1084.589966  18012900   \n",
      "2022-04-04  1149.910034  1072.530029  1089.380005  1145.449951  27345300   \n",
      "2022-04-05  1152.869995  1087.300049  1136.300049  1091.260010  26691700   \n",
      "2022-04-06  1079.000000  1027.699951  1073.469971  1045.760010  29782800   \n",
      "2022-04-07  1076.589966  1021.539978  1052.390015  1057.260010  26482400   \n",
      "2022-04-08  1048.439941  1022.440002  1043.209961  1025.489990  18293300   \n",
      "2022-04-11  1008.469971   974.640015   980.400024   975.929993  19785700   \n",
      "2022-04-12  1021.190002   976.599976   997.640015   986.950012  21992000   \n",
      "2022-04-13  1026.239990   973.099976   981.080017  1022.369995  18373700   \n",
      "2022-04-14  1012.710022   982.190002   999.289978   985.000000  19444000   \n",
      "2022-04-18  1014.919983   973.409973   989.030029  1004.289978  17238400   \n",
      "2022-04-19  1034.939941   995.330017  1005.059998  1028.150024  16615900   \n",
      "2022-04-20  1034.000000   975.250000  1030.000000   977.200012  23570400   \n",
      "2022-04-21  1092.219971   996.419983  1074.729980  1008.780029  35138800   \n",
      "2022-04-22  1034.849976   994.000000  1014.909973  1005.049988  23232200   \n",
      "2022-04-25  1008.619995   975.299988   978.969971   998.020020  22780400   \n",
      "2022-04-26  1000.000000   875.000000   995.429993   876.419983  45377900   \n",
      "2022-04-27   918.000000   877.359985   898.580017   881.510010  25652100   \n",
      "2022-04-28   900.000000   821.700012   899.979980   877.510010  41649500   \n",
      "2022-04-29   934.400024   870.000000   902.250000   870.760010  29313400   \n",
      "\n",
      "              Adj Close  Max Gap Volume  \n",
      "Date                                     \n",
      "2022-04-01  1084.589966    5.063424e+08  \n",
      "2022-04-04  1145.449951    2.115979e+09  \n",
      "2022-04-05  1091.260010    1.750173e+09  \n",
      "2022-04-06  1045.760010    1.527859e+09  \n",
      "2022-04-07  1057.260010    1.457856e+09  \n",
      "2022-04-08  1025.489990    4.756247e+08  \n",
      "2022-04-11   975.929993    6.693494e+08  \n",
      "2022-04-12   986.950012    9.806239e+08  \n",
      "2022-04-13  1022.369995    9.763787e+08  \n",
      "2022-04-14   985.000000    5.934313e+08  \n",
      "2022-04-18  1004.289978    7.155662e+08  \n",
      "2022-04-19  1028.150024    6.581545e+08  \n",
      "2022-04-20   977.200012    1.384761e+09  \n",
      "2022-04-21  1008.780029    3.366297e+09  \n",
      "2022-04-22  1005.049988    9.490348e+08  \n",
      "2022-04-25   998.020020    7.590431e+08  \n",
      "2022-04-26   876.419983    5.672238e+09  \n",
      "2022-04-27   881.510010    1.042502e+09  \n",
      "2022-04-28   877.510010    3.261155e+09  \n",
      "2022-04-29   870.760010    1.887784e+09  \n"
     ]
    }
   ],
   "source": [
    "import pandas_datareader.data as web\n",
    "import datetime\n",
    "\n",
    "data = web.DataReader(\"TSLA\", 'yahoo', datetime.date.today() - datetime.timedelta(days=30))\n",
    "data[\"Max Gap Volume\"] = (data[\"High\"] - data[\"Low\"])*data[\"Volume\"]\n",
    "print(data)"
   ]
  },
  {
   "cell_type": "code",
   "execution_count": 5,
   "id": "c760c7fe",
   "metadata": {},
   "outputs": [],
   "source": [
    "# Make another columns as \"Day Gap Volume\" = (\"Close\"-\"Open\")*\"Volume\", and the show me the dataset"
   ]
  },
  {
   "cell_type": "code",
   "execution_count": 6,
   "id": "9bd4c3b0",
   "metadata": {
    "scrolled": false
   },
   "outputs": [
    {
     "name": "stdout",
     "output_type": "stream",
     "text": [
      "                   High          Low         Open        Close    Volume  \\\n",
      "Date                                                                       \n",
      "2022-04-01  1094.750000  1066.640015  1081.150024  1084.589966  18012900   \n",
      "2022-04-04  1149.910034  1072.530029  1089.380005  1145.449951  27345300   \n",
      "2022-04-05  1152.869995  1087.300049  1136.300049  1091.260010  26691700   \n",
      "2022-04-06  1079.000000  1027.699951  1073.469971  1045.760010  29782800   \n",
      "2022-04-07  1076.589966  1021.539978  1052.390015  1057.260010  26482400   \n",
      "2022-04-08  1048.439941  1022.440002  1043.209961  1025.489990  18293300   \n",
      "2022-04-11  1008.469971   974.640015   980.400024   975.929993  19785700   \n",
      "2022-04-12  1021.190002   976.599976   997.640015   986.950012  21992000   \n",
      "2022-04-13  1026.239990   973.099976   981.080017  1022.369995  18373700   \n",
      "2022-04-14  1012.710022   982.190002   999.289978   985.000000  19444000   \n",
      "2022-04-18  1014.919983   973.409973   989.030029  1004.289978  17238400   \n",
      "2022-04-19  1034.939941   995.330017  1005.059998  1028.150024  16615900   \n",
      "2022-04-20  1034.000000   975.250000  1030.000000   977.200012  23570400   \n",
      "2022-04-21  1092.219971   996.419983  1074.729980  1008.780029  35138800   \n",
      "2022-04-22  1034.849976   994.000000  1014.909973  1005.049988  23232200   \n",
      "2022-04-25  1008.619995   975.299988   978.969971   998.020020  22780400   \n",
      "2022-04-26  1000.000000   875.000000   995.429993   876.419983  45377900   \n",
      "2022-04-27   918.000000   877.359985   898.580017   881.510010  25652100   \n",
      "2022-04-28   900.000000   821.700012   899.979980   877.510010  41649500   \n",
      "2022-04-29   934.400024   870.000000   902.250000   870.760010  29313400   \n",
      "\n",
      "              Adj Close  Max Gap Volume  Day Gap Volume  \n",
      "Date                                                     \n",
      "2022-04-01  1084.589966    5.063424e+08    6.196332e+07  \n",
      "2022-04-04  1145.449951    2.115979e+09    1.533250e+09  \n",
      "2022-04-05  1091.260010    1.750173e+09   -1.202195e+09  \n",
      "2022-04-06  1045.760010    1.527859e+09   -8.252802e+08  \n",
      "2022-04-07  1057.260010    1.457856e+09    1.289692e+08  \n",
      "2022-04-08  1025.489990    4.756247e+08   -3.241567e+08  \n",
      "2022-04-11   975.929993    6.693494e+08   -8.844271e+07  \n",
      "2022-04-12   986.950012    9.806239e+08   -2.350945e+08  \n",
      "2022-04-13  1022.369995    9.763787e+08    7.586497e+08  \n",
      "2022-04-14   985.000000    5.934313e+08   -2.778543e+08  \n",
      "2022-04-18  1004.289978    7.155662e+08    2.630571e+08  \n",
      "2022-04-19  1028.150024    6.581545e+08    3.836616e+08  \n",
      "2022-04-20   977.200012    1.384761e+09   -1.244517e+09  \n",
      "2022-04-21  1008.780029    3.366297e+09   -2.317402e+09  \n",
      "2022-04-22  1005.049988    9.490348e+08   -2.290692e+08  \n",
      "2022-04-25   998.020020    7.590431e+08    4.339677e+08  \n",
      "2022-04-26   876.419983    5.672238e+09   -5.400424e+09  \n",
      "2022-04-27   881.510010    1.042502e+09   -4.378815e+08  \n",
      "2022-04-28   877.510010    3.261155e+09   -9.358630e+08  \n",
      "2022-04-29   870.760010    1.887784e+09   -9.230787e+08  \n"
     ]
    }
   ],
   "source": [
    "import pandas_datareader.data as web\n",
    "import datetime\n",
    "\n",
    "data = web.DataReader(\"TSLA\", 'yahoo', datetime.date.today() - datetime.timedelta(days=30))\n",
    "data[\"Max Gap Volume\"] = (data[\"High\"] - data[\"Low\"])*data[\"Volume\"]\n",
    "data[\"Day Gap Volume\"] = (data[\"Close\"] - data[\"Open\"])*data[\"Volume\"]\n",
    "print(data)"
   ]
  },
  {
   "cell_type": "code",
   "execution_count": 7,
   "id": "3dfc2125",
   "metadata": {},
   "outputs": [],
   "source": [
    "# Plot me \"Max Gap Volume\" and \"Day Gap Volume\""
   ]
  },
  {
   "cell_type": "code",
   "execution_count": 8,
   "id": "6263ed08",
   "metadata": {},
   "outputs": [
    {
     "data": {
      "text/plain": [
       "[<matplotlib.lines.Line2D at 0x7f8fdb05f070>]"
      ]
     },
     "execution_count": 8,
     "metadata": {},
     "output_type": "execute_result"
    },
    {
     "data": {
      "image/png": "[encoded data removed]",
      "text/plain": [
       "<Figure size 432x288 with 1 Axes>"
      ]
     },
     "metadata": {
      "needs_background": "light"
     },
     "output_type": "display_data"
    }
   ],
   "source": [
    "import pandas_datareader.data as web\n",
    "import datetime\n",
    "import pylab as plt \n",
    "\n",
    "data = web.DataReader(\"TSLA\", 'yahoo', datetime.date.today() - datetime.timedelta(days=30))\n",
    "data[\"Max Gap Volume\"] = (data[\"High\"] - data[\"Low\"])*data[\"Volume\"]\n",
    "data[\"Day Gap Volume\"] = (data[\"Close\"] - data[\"Open\"])*data[\"Volume\"]\n",
    "\n",
    "fig, ax = plt.subplots()\n",
    "ax.plot(data.index, data[\"Max Gap Volume\"])\n",
    "ax.plot(data.index, data[\"Day Gap Volume\"])"
   ]
  }
 ],
 "metadata": {
  "kernelspec": {
   "display_name": "Python 3",
   "language": "python",
   "name": "python3"
  },
  "language_info": {
   "codemirror_mode": {
    "name": "ipython",
    "version": 3
   },
   "file_extension": ".py",
   "mimetype": "text/x-python",
   "name": "python",
   "nbconvert_exporter": "python",
   "pygments_lexer": "ipython3",
   "version": "3.8.8"
  }
 },
 "nbformat": 4,
 "nbformat_minor": 5
}
