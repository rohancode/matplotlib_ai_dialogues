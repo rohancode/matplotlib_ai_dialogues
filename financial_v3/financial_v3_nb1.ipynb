{
 "cells": [
  {
   "cell_type": "code",
   "execution_count": 1,
   "id": "f58b131f",
   "metadata": {},
   "outputs": [],
   "source": [
    "# Show me the annual GDP growth rate of India from 2012 to 2021"
   ]
  },
  {
   "cell_type": "code",
   "execution_count": 2,
   "id": "9d20829b",
   "metadata": {
    "scrolled": true
   },
   "outputs": [
    {
     "name": "stdout",
     "output_type": "stream",
     "text": [
      "              NY.GDP.MKTP.KD.ZG\n",
      "country year                   \n",
      "India   2021                NaN\n",
      "        2020          -7.251755\n",
      "        2019           4.041554\n",
      "        2018           6.532989\n",
      "        2017           6.795383\n",
      "        2016           8.256306\n",
      "        2015           7.996254\n",
      "        2014           7.410228\n",
      "        2013           6.386106\n",
      "        2012           5.456389\n"
     ]
    }
   ],
   "source": [
    "from pandas_datareader import wb\n",
    "import datetime\n",
    "\n",
    "start = 2012\n",
    "end = 2021\n",
    "df = wb.download(indicator='NY.GDP.MKTP.KD.ZG', country=['IN'], start=start, end=end)\n",
    "print(df)"
   ]
  },
  {
   "cell_type": "code",
   "execution_count": 3,
   "id": "35514d29",
   "metadata": {},
   "outputs": [],
   "source": [
    "# Could you make a plot of this information?"
   ]
  },
  {
   "cell_type": "code",
   "execution_count": 4,
   "id": "be4c9ce9",
   "metadata": {},
   "outputs": [
    {
     "data": {
      "text/plain": [
       "[<matplotlib.lines.Line2D at 0x7fb3b0046c70>]"
      ]
     },
     "execution_count": 4,
     "metadata": {},
     "output_type": "execute_result"
    },
    {
     "data": {
      "image/png": "[encoded data removed]",
      "text/plain": [
       "<Figure size 432x288 with 1 Axes>"
      ]
     },
     "metadata": {
      "needs_background": "light"
     },
     "output_type": "display_data"
    }
   ],
   "source": [
    "from pandas_datareader import wb\n",
    "import datetime\n",
    "import pylab as plt\n",
    "\n",
    "start = 2012\n",
    "end = 2021\n",
    "df = wb.download(indicator='NY.GDP.MKTP.KD.ZG', country=['IN'], start=start, end=end)\n",
    "df = df.reset_index()\n",
    "fig, ax = plt.subplots()\n",
    "ax.plot(df.year, df.iloc[:,-1])"
   ]
  },
  {
   "cell_type": "code",
   "execution_count": 5,
   "id": "0593d11f",
   "metadata": {},
   "outputs": [],
   "source": [
    "# Add x axis label as \"Years\" and y axis label as \"Annual GDP Growth %\""
   ]
  },
  {
   "cell_type": "code",
   "execution_count": 6,
   "id": "61b884c6",
   "metadata": {},
   "outputs": [
    {
     "data": {
      "text/plain": [
       "Text(0, 0.5, 'Annual GDP Growth %')"
      ]
     },
     "execution_count": 6,
     "metadata": {},
     "output_type": "execute_result"
    },
    {
     "data": {
      "image/png": "[encoded data removed]",
      "text/plain": [
       "<Figure size 432x288 with 1 Axes>"
      ]
     },
     "metadata": {
      "needs_background": "light"
     },
     "output_type": "display_data"
    }
   ],
   "source": [
    "from pandas_datareader import wb\n",
    "import datetime\n",
    "import pylab as plt\n",
    "\n",
    "start = 2012\n",
    "end = 2021\n",
    "df = wb.download(indicator='NY.GDP.MKTP.KD.ZG', country=['IN'], start=start, end=end)\n",
    "df = df.reset_index()\n",
    "fig, ax = plt.subplots()\n",
    "ax.plot(df.year, df.iloc[:,-1])\n",
    "ax.set_xlabel(\"Years\")\n",
    "ax.set_ylabel(\"Annual GDP Growth %\")"
   ]
  }
 ],
 "metadata": {
  "kernelspec": {
   "display_name": "Python 3",
   "language": "python",
   "name": "python3"
  },
  "language_info": {
   "codemirror_mode": {
    "name": "ipython",
    "version": 3
   },
   "file_extension": ".py",
   "mimetype": "text/x-python",
   "name": "python",
   "nbconvert_exporter": "python",
   "pygments_lexer": "ipython3",
   "version": "3.8.8"
  }
 },
 "nbformat": 4,
 "nbformat_minor": 5
}
